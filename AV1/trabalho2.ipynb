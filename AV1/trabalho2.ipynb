{
 "cells": [
  {
   "cell_type": "code",
   "execution_count": 1,
   "metadata": {},
   "outputs": [],
   "source": [
    "import networkx\n",
    "from Classe import Grafo"
   ]
  },
  {
   "cell_type": "code",
   "execution_count": 2,
   "metadata": {},
   "outputs": [
    {
     "name": "stdout",
     "output_type": "stream",
     "text": [
      "Grafo não Hamiltoniano pelo Teorema de Dirac\n"
     ]
    }
   ],
   "source": [
    "G1 = Grafo()\n",
    "G1.adicionaAresta(1,2)\n",
    "G1.adicionaAresta(1,3)\n",
    "G1.adicionaAresta(1,5)\n",
    "G1.adicionaAresta(3,4)\n",
    "G1.adicionaAresta(5,2)\n",
    "G1.grauVertice(4)\n",
    "G1.dirac()"
   ]
  },
  {
   "cell_type": "code",
   "execution_count": null,
   "metadata": {},
   "outputs": [],
   "source": []
  }
 ],
 "metadata": {
  "kernelspec": {
   "display_name": "venv",
   "language": "python",
   "name": "python3"
  },
  "language_info": {
   "codemirror_mode": {
    "name": "ipython",
    "version": 3
   },
   "file_extension": ".py",
   "mimetype": "text/x-python",
   "name": "python",
   "nbconvert_exporter": "python",
   "pygments_lexer": "ipython3",
   "version": "3.11.7"
  }
 },
 "nbformat": 4,
 "nbformat_minor": 2
}
